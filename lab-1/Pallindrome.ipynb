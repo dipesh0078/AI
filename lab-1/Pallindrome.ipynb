{
 "cells": [
  {
   "cell_type": "code",
   "execution_count": 17,
   "id": "0ce705f1-e68e-46fe-a915-18162fb43be2",
   "metadata": {},
   "outputs": [
    {
     "name": "stdin",
     "output_type": "stream",
     "text": [
      "Enter your number 14441\n"
     ]
    },
    {
     "name": "stdout",
     "output_type": "stream",
     "text": [
      "It is a pallindrome number\n"
     ]
    }
   ],
   "source": [
    "def CheckPallindrome(x):\n",
    "    original=x\n",
    "    reverse=0\n",
    "    while(x!=0):\n",
    "        rem=x%10\n",
    "        reverse=reverse*10+rem\n",
    "        x=x//10\n",
    "    if(original==reverse):\n",
    "        print(\"It is a pallindrome number\")\n",
    "    else:\n",
    "        print(\"It is not a pallindrome number\")\n",
    "\n",
    "num=int(input(\"Enter your number\"))\n",
    "CheckPallindrome(num)"
   ]
  },
  {
   "cell_type": "code",
   "execution_count": null,
   "id": "1ef9359f-8dd5-4918-89f2-24eb4ae1d970",
   "metadata": {},
   "outputs": [],
   "source": []
  },
  {
   "cell_type": "code",
   "execution_count": null,
   "id": "f9433539-abdd-4533-818a-edbd89b5b570",
   "metadata": {},
   "outputs": [],
   "source": []
  }
 ],
 "metadata": {
  "kernelspec": {
   "display_name": "Python 3 (ipykernel)",
   "language": "python",
   "name": "python3"
  },
  "language_info": {
   "codemirror_mode": {
    "name": "ipython",
    "version": 3
   },
   "file_extension": ".py",
   "mimetype": "text/x-python",
   "name": "python",
   "nbconvert_exporter": "python",
   "pygments_lexer": "ipython3",
   "version": "3.11.5"
  }
 },
 "nbformat": 4,
 "nbformat_minor": 5
}
