{
 "cells": [
  {
   "cell_type": "code",
   "execution_count": 12,
   "id": "27edeb03-838c-476a-864b-1534129be3c2",
   "metadata": {},
   "outputs": [
    {
     "name": "stdin",
     "output_type": "stream",
     "text": [
      "Enter your number 20\n"
     ]
    },
    {
     "name": "stdout",
     "output_type": "stream",
     "text": [
      "The number 20 is not prime\n"
     ]
    }
   ],
   "source": [
    "def Isprime(x):\n",
    "    temp=0\n",
    "    y=range(2,x)\n",
    "    for i in y:\n",
    "        if(x%i==0):\n",
    "            temp=temp+1\n",
    "            break\n",
    "    if(temp==0 & x!=1):\n",
    "            print(f'The number {x} is prime')\n",
    "    else:\n",
    "            print(f'The number {x} is not prime')\n",
    "\n",
    "num=int(input(\"Enter your number\"))\n",
    "Isprime(num)\n",
    "\n",
    "            "
   ]
  },
  {
   "cell_type": "code",
   "execution_count": null,
   "id": "641ce994-d810-4073-b1d6-5f77683c3655",
   "metadata": {},
   "outputs": [],
   "source": []
  },
  {
   "cell_type": "code",
   "execution_count": null,
   "id": "c433ab35-fd45-4199-9605-78e59fdcb21b",
   "metadata": {},
   "outputs": [],
   "source": []
  }
 ],
 "metadata": {
  "kernelspec": {
   "display_name": "Python 3 (ipykernel)",
   "language": "python",
   "name": "python3"
  },
  "language_info": {
   "codemirror_mode": {
    "name": "ipython",
    "version": 3
   },
   "file_extension": ".py",
   "mimetype": "text/x-python",
   "name": "python",
   "nbconvert_exporter": "python",
   "pygments_lexer": "ipython3",
   "version": "3.11.5"
  }
 },
 "nbformat": 4,
 "nbformat_minor": 5
}
