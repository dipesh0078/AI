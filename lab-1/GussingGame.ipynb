{
 "cells": [
  {
   "cell_type": "code",
   "execution_count": 26,
   "id": "d2ef1c5f-34dd-47c5-aee0-3f0066a5d10e",
   "metadata": {},
   "outputs": [
    {
     "name": "stdout",
     "output_type": "stream",
     "text": [
      "47\n",
      "Round:1\n"
     ]
    },
    {
     "name": "stdin",
     "output_type": "stream",
     "text": [
      "Enter your guess 56\n"
     ]
    },
    {
     "name": "stdout",
     "output_type": "stream",
     "text": [
      "Decrease your guess value\n"
     ]
    },
    {
     "name": "stdin",
     "output_type": "stream",
     "text": [
      "Do you want to continue (y/n)? y\n"
     ]
    },
    {
     "name": "stdout",
     "output_type": "stream",
     "text": [
      "Round:2\n"
     ]
    },
    {
     "name": "stdin",
     "output_type": "stream",
     "text": [
      "Enter your guess 55\n"
     ]
    },
    {
     "name": "stdout",
     "output_type": "stream",
     "text": [
      "Decrease your guess value\n"
     ]
    },
    {
     "name": "stdin",
     "output_type": "stream",
     "text": [
      "Do you want to continue (y/n)? y\n"
     ]
    },
    {
     "name": "stdout",
     "output_type": "stream",
     "text": [
      "Round:3\n"
     ]
    },
    {
     "name": "stdin",
     "output_type": "stream",
     "text": [
      "Enter your guess 70\n"
     ]
    },
    {
     "name": "stdout",
     "output_type": "stream",
     "text": [
      "Decrease your guess value\n"
     ]
    },
    {
     "name": "stdin",
     "output_type": "stream",
     "text": [
      "Do you want to continue (y/n)? y\n"
     ]
    },
    {
     "name": "stdout",
     "output_type": "stream",
     "text": [
      "Round:4\n"
     ]
    },
    {
     "name": "stdin",
     "output_type": "stream",
     "text": [
      "Enter your guess 47\n"
     ]
    },
    {
     "name": "stdout",
     "output_type": "stream",
     "text": [
      "Congratulations you guessed it right\n"
     ]
    }
   ],
   "source": [
    "import random\n",
    "\n",
    "answer= random.randint(1,100)\n",
    "attempt=1\n",
    "print(answer) #to check the answer\n",
    "go=True\n",
    "print(f'Round:{attempt}')\n",
    "while go:\n",
    "    guess=int(input(\"Enter your guess\"))\n",
    "    if(guess==answer):\n",
    "        print(\"Congratulations you guessed it right\")\n",
    "        break\n",
    "    elif(guess<answer):\n",
    "        print(\"Increase your guess value\")\n",
    "    elif(guess>answer):\n",
    "        print(\"Decrease your guess value\")\n",
    "    decision=input(\"Do you want to continue (y/n)?\")\n",
    "    if(decision=='n'):\n",
    "        go=False\n",
    "    else:\n",
    "        attempt=attempt+1\n",
    "        print(f'Round:{attempt}')\n",
    "    "
   ]
  },
  {
   "cell_type": "raw",
   "id": "11a780c5-891e-4436-8c82-5bf24f3ea080",
   "metadata": {},
   "source": []
  },
  {
   "cell_type": "code",
   "execution_count": null,
   "id": "7c5980c3-5bf1-4645-b21e-0c80daba3d13",
   "metadata": {},
   "outputs": [],
   "source": []
  },
  {
   "cell_type": "code",
   "execution_count": null,
   "id": "376c5dc1-6349-49c0-849a-23636cfc183a",
   "metadata": {},
   "outputs": [],
   "source": []
  }
 ],
 "metadata": {
  "kernelspec": {
   "display_name": "Python 3 (ipykernel)",
   "language": "python",
   "name": "python3"
  },
  "language_info": {
   "codemirror_mode": {
    "name": "ipython",
    "version": 3
   },
   "file_extension": ".py",
   "mimetype": "text/x-python",
   "name": "python",
   "nbconvert_exporter": "python",
   "pygments_lexer": "ipython3",
   "version": "3.11.5"
  }
 },
 "nbformat": 4,
 "nbformat_minor": 5
}
