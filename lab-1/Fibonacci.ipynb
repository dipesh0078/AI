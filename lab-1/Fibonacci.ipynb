{
 "cells": [
  {
   "cell_type": "code",
   "execution_count": 17,
   "id": "d4a32f95-229e-41a2-bf9e-d6330494890d",
   "metadata": {},
   "outputs": [
    {
     "name": "stdin",
     "output_type": "stream",
     "text": [
      "Enter thr number of terms 7\n"
     ]
    },
    {
     "name": "stdout",
     "output_type": "stream",
     "text": [
      "0\n",
      "1\n",
      "1\n",
      "2\n",
      "3\n",
      "5\n",
      "8\n"
     ]
    }
   ],
   "source": [
    "n1=0\n",
    "n2=1\n",
    "num=int(input(\"Enter thr number of terms\"))\n",
    "if(num==0):\n",
    "    print(\"Invalid\")\n",
    "else:\n",
    "    print(n1)\n",
    "    print(n2)\n",
    "    for x in range(2, num):\n",
    "        n3=n1+n2\n",
    "        print(n3)\n",
    "        n1=n2\n",
    "        n2=n3\n",
    "         \n",
    "    \n",
    "        \n",
    "    "
   ]
  },
  {
   "cell_type": "code",
   "execution_count": null,
   "id": "ec1c4623-df9d-4538-a50d-846c627aa167",
   "metadata": {},
   "outputs": [],
   "source": []
  },
  {
   "cell_type": "code",
   "execution_count": null,
   "id": "53c24521-18f9-436c-b5d2-aa96c8cc5bb0",
   "metadata": {},
   "outputs": [],
   "source": []
  },
  {
   "cell_type": "code",
   "execution_count": null,
   "id": "0364eb07-90c1-4bac-b02c-31f5182321e9",
   "metadata": {},
   "outputs": [],
   "source": []
  }
 ],
 "metadata": {
  "kernelspec": {
   "display_name": "Python 3 (ipykernel)",
   "language": "python",
   "name": "python3"
  },
  "language_info": {
   "codemirror_mode": {
    "name": "ipython",
    "version": 3
   },
   "file_extension": ".py",
   "mimetype": "text/x-python",
   "name": "python",
   "nbconvert_exporter": "python",
   "pygments_lexer": "ipython3",
   "version": "3.11.5"
  }
 },
 "nbformat": 4,
 "nbformat_minor": 5
}
