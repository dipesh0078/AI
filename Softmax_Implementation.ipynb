{
  "nbformat": 4,
  "nbformat_minor": 0,
  "metadata": {
    "colab": {
      "provenance": []
    },
    "kernelspec": {
      "name": "python3",
      "display_name": "Python 3"
    },
    "language_info": {
      "name": "python"
    }
  },
  "cells": [
    {
      "cell_type": "markdown",
      "source": [
        "#Softmax from scratch"
      ],
      "metadata": {
        "id": "pn5k_4sz8Bbj"
      }
    },
    {
      "cell_type": "code",
      "execution_count": 27,
      "metadata": {
        "colab": {
          "base_uri": "https://localhost:8080/"
        },
        "id": "4CGHLe2F73oM",
        "outputId": "6934a642-aa9a-416f-e524-bd8cc9cf7ec3"
      },
      "outputs": [
        {
          "output_type": "stream",
          "name": "stdout",
          "text": [
            "[0.3745401188473625, 0.9507143064099162, 0.7319939418114051, 0.5986584841970366, 0.15601864044243652, 0.15599452033620265, 0.05808361216819946, 0.8661761457749352, 0.6011150117432088, 0.7080725777960455, 0.020584494295802447, 0.9699098521619943, 0.8324426408004217, 0.21233911067827616, 0.18182496720710062, 0.18340450985343382, 0.3042422429595377, 0.5247564316322378, 0.43194501864211576, 0.2912291401980419]\n"
          ]
        }
      ],
      "source": [
        "import numpy as np\n",
        "lis=[]\n",
        "size=20\n",
        "np.random.seed(42)\n",
        "for i in range(size):\n",
        "  lis.append(np.random.rand())\n",
        "print(lis)"
      ]
    },
    {
      "cell_type": "code",
      "source": [
        "import torch\n",
        "tens=torch.tensor(lis)\n",
        "\n"
      ],
      "metadata": {
        "id": "QP2wEHBF83uT"
      },
      "execution_count": 28,
      "outputs": []
    },
    {
      "cell_type": "code",
      "source": [
        "import math\n",
        "for i in range(size):\n",
        "  tens[i]=math.exp(tens[i])\n",
        "sum=torch.sum(tens)\n",
        "for i in range(size):\n",
        "  tens[i]=tens[i]/sum\n",
        "print(tens)"
      ],
      "metadata": {
        "colab": {
          "base_uri": "https://localhost:8080/"
        },
        "id": "ls6HGeqODJKc",
        "outputId": "8744809d-907e-48d7-fd4a-e0ecc1c89dcb"
      },
      "execution_count": 29,
      "outputs": [
        {
          "output_type": "stream",
          "name": "stdout",
          "text": [
            "tensor([0.0440, 0.0782, 0.0628, 0.0550, 0.0353, 0.0353, 0.0320, 0.0719, 0.0551,\n",
            "        0.0614, 0.0309, 0.0797, 0.0695, 0.0374, 0.0362, 0.0363, 0.0410, 0.0511,\n",
            "        0.0465, 0.0404])\n"
          ]
        }
      ]
    },
    {
      "cell_type": "code",
      "source": [
        "#using pytorch to verify\n",
        "import torch.nn as nn\n",
        "m=nn.Softmax()\n",
        "input=torch.tensor(lis)\n",
        "print('input tensor',input)\n",
        "output=m(input)\n",
        "print(\"Output Tensor\",output)\n"
      ],
      "metadata": {
        "colab": {
          "base_uri": "https://localhost:8080/"
        },
        "id": "vVp0k2-bCeH9",
        "outputId": "de67ec33-c79d-4a20-d679-7541365cb1c7"
      },
      "execution_count": 32,
      "outputs": [
        {
          "output_type": "stream",
          "name": "stdout",
          "text": [
            "input tensor tensor([0.3745, 0.9507, 0.7320, 0.5987, 0.1560, 0.1560, 0.0581, 0.8662, 0.6011,\n",
            "        0.7081, 0.0206, 0.9699, 0.8324, 0.2123, 0.1818, 0.1834, 0.3042, 0.5248,\n",
            "        0.4319, 0.2912])\n",
            "Output Tensor tensor([0.0440, 0.0782, 0.0628, 0.0550, 0.0353, 0.0353, 0.0320, 0.0719, 0.0551,\n",
            "        0.0614, 0.0309, 0.0797, 0.0695, 0.0374, 0.0362, 0.0363, 0.0410, 0.0511,\n",
            "        0.0465, 0.0404])\n"
          ]
        },
        {
          "output_type": "stream",
          "name": "stderr",
          "text": [
            "/usr/local/lib/python3.10/dist-packages/torch/nn/modules/module.py:1532: UserWarning: Implicit dimension choice for softmax has been deprecated. Change the call to include dim=X as an argument.\n",
            "  return self._call_impl(*args, **kwargs)\n"
          ]
        }
      ]
    },
    {
      "cell_type": "code",
      "source": [
        "#Checking\n"
      ],
      "metadata": {
        "id": "CptNr9e4Ctce"
      },
      "execution_count": null,
      "outputs": []
    }
  ]
}